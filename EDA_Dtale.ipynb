{
 "cells": [
  {
   "cell_type": "code",
   "execution_count": 1,
   "id": "50eea308",
   "metadata": {},
   "outputs": [],
   "source": [
    "import pandas as pd"
   ]
  },
  {
   "cell_type": "code",
   "execution_count": 2,
   "id": "6d0f3e63",
   "metadata": {},
   "outputs": [],
   "source": [
    "data_set = pd.read_csv(\"data.csv\")"
   ]
  },
  {
   "cell_type": "code",
   "execution_count": 3,
   "id": "fb1fcf4b",
   "metadata": {},
   "outputs": [],
   "source": [
    "data_set = data_set.drop(['id','Unnamed: 32'],axis=1)\n",
    "data_set['diagnosis'] = data_set['diagnosis'].replace({'M':1,'B':0})"
   ]
  },
  {
   "cell_type": "code",
   "execution_count": 4,
   "id": "e53e7e5e",
   "metadata": {},
   "outputs": [],
   "source": [
    "y = data_set['diagnosis']\n",
    "X = data_set.drop('diagnosis',axis=1)"
   ]
  },
  {
   "cell_type": "code",
   "execution_count": 5,
   "id": "cb79097e",
   "metadata": {},
   "outputs": [],
   "source": [
    "from sklearn.model_selection import train_test_split"
   ]
  },
  {
   "cell_type": "code",
   "execution_count": 6,
   "id": "f459a135",
   "metadata": {},
   "outputs": [],
   "source": [
    "X_train, X_test, y_train, y_test = train_test_split(X, y, test_size=0.2, random_state=10)"
   ]
  },
  {
   "cell_type": "code",
   "execution_count": 7,
   "id": "05fbaf38",
   "metadata": {},
   "outputs": [],
   "source": [
    "train_set = pd.concat([X_train,y_train],axis=1)"
   ]
  },
  {
   "cell_type": "code",
   "execution_count": 8,
   "id": "00b49062",
   "metadata": {},
   "outputs": [],
   "source": [
    "test_set = pd.concat([X_test,y_test],axis=1)"
   ]
  },
  {
   "cell_type": "code",
   "execution_count": 9,
   "id": "ff86b24b",
   "metadata": {
    "scrolled": true
   },
   "outputs": [
    {
     "name": "stdout",
     "output_type": "stream",
     "text": [
      "Requirement already satisfied: dtale in e:\\applications\\py\\lib\\site-packages (3.11.0)\n",
      "Requirement already satisfied: seaborn in e:\\applications\\py\\lib\\site-packages (from dtale) (0.12.2)\n",
      "Requirement already satisfied: pandas in e:\\applications\\py\\lib\\site-packages (from dtale) (2.2.1)\n",
      "Requirement already satisfied: openpyxl!=3.2.0b1 in e:\\applications\\py\\lib\\site-packages (from dtale) (3.1.2)\n",
      "Requirement already satisfied: Flask-Compress in e:\\applications\\py\\lib\\site-packages (from dtale) (1.14)\n",
      "Requirement already satisfied: beautifulsoup4 in e:\\applications\\py\\lib\\site-packages (from dtale) (4.12.3)\n",
      "Requirement already satisfied: future>=0.14.0 in e:\\applications\\py\\lib\\site-packages (from dtale) (1.0.0)\n",
      "Requirement already satisfied: six in e:\\applications\\py\\lib\\site-packages (from dtale) (1.16.0)\n",
      "Requirement already satisfied: dash in e:\\applications\\py\\lib\\site-packages (from dtale) (2.16.1)\n",
      "Requirement already satisfied: contourpy in e:\\applications\\py\\lib\\site-packages (from dtale) (1.2.0)\n",
      "Requirement already satisfied: xarray in e:\\applications\\py\\lib\\site-packages (from dtale) (2024.2.0)\n",
      "Requirement already satisfied: squarify in e:\\applications\\py\\lib\\site-packages (from dtale) (0.4.3)\n",
      "Requirement already satisfied: et-xmlfile in e:\\applications\\py\\lib\\site-packages (from dtale) (1.1.0)\n",
      "Requirement already satisfied: kaleido in e:\\applications\\py\\lib\\site-packages (from dtale) (0.2.1)\n",
      "Requirement already satisfied: dash-colorscales in e:\\applications\\py\\lib\\site-packages (from dtale) (0.0.4)\n",
      "Requirement already satisfied: missingno in e:\\applications\\py\\lib\\site-packages (from dtale) (0.5.2)\n",
      "Requirement already satisfied: scikit-learn in e:\\applications\\py\\lib\\site-packages (from dtale) (1.4.1.post1)\n",
      "Requirement already satisfied: Flask<2.3 in e:\\applications\\py\\lib\\site-packages (from dtale) (2.2.5)\n",
      "Requirement already satisfied: requests in e:\\applications\\py\\lib\\site-packages (from dtale) (2.31.0)\n",
      "Requirement already satisfied: matplotlib in e:\\applications\\py\\lib\\site-packages (from dtale) (3.7.4)\n",
      "Requirement already satisfied: dash-bootstrap-components<=1.3.1 in e:\\applications\\py\\lib\\site-packages (from dtale) (1.3.1)\n",
      "Requirement already satisfied: itsdangerous in e:\\applications\\py\\lib\\site-packages (from dtale) (2.1.2)\n",
      "Requirement already satisfied: flask-ngrok in e:\\applications\\py\\lib\\site-packages (from dtale) (0.0.25)\n",
      "Requirement already satisfied: statsmodels in e:\\applications\\py\\lib\\site-packages (from dtale) (0.14.1)\n",
      "Requirement already satisfied: scipy!=1.12.0rc1 in e:\\applications\\py\\lib\\site-packages (from dtale) (1.11.4)\n",
      "Requirement already satisfied: xlrd in e:\\applications\\py\\lib\\site-packages (from dtale) (2.0.1)\n",
      "Requirement already satisfied: dash-daq in e:\\applications\\py\\lib\\site-packages (from dtale) (0.5.0)\n",
      "Requirement already satisfied: strsimpy in e:\\applications\\py\\lib\\site-packages (from dtale) (0.2.1)\n",
      "Requirement already satisfied: plotly in e:\\applications\\py\\lib\\site-packages (from dtale) (5.19.0)\n",
      "Requirement already satisfied: certifi in e:\\applications\\py\\lib\\site-packages (from dtale) (2024.2.2)\n",
      "Requirement already satisfied: networkx in e:\\applications\\py\\lib\\site-packages (from dtale) (3.2.1)\n",
      "Requirement already satisfied: cycler in e:\\applications\\py\\lib\\site-packages (from dtale) (0.12.1)\n",
      "Requirement already satisfied: numpy in e:\\applications\\py\\lib\\site-packages (from dtale) (1.24.4)\n",
      "Requirement already satisfied: lz4 in e:\\applications\\py\\lib\\site-packages (from dtale) (4.3.3)\n",
      "Requirement already satisfied: werkzeug in e:\\applications\\py\\lib\\site-packages (from dtale) (3.0.1)\n",
      "Requirement already satisfied: setuptools in e:\\applications\\py\\lib\\site-packages (from dash->dtale) (65.5.0)\n",
      "Requirement already satisfied: typing-extensions>=4.1.1 in e:\\applications\\py\\lib\\site-packages (from dash->dtale) (4.10.0)\n",
      "Requirement already satisfied: nest-asyncio in e:\\applications\\py\\lib\\site-packages (from dash->dtale) (1.6.0)\n",
      "Requirement already satisfied: dash-html-components==2.0.0 in e:\\applications\\py\\lib\\site-packages (from dash->dtale) (2.0.0)\n",
      "Requirement already satisfied: importlib-metadata in e:\\applications\\py\\lib\\site-packages (from dash->dtale) (7.0.2)\n",
      "Requirement already satisfied: retrying in e:\\applications\\py\\lib\\site-packages (from dash->dtale) (1.3.4)\n",
      "Requirement already satisfied: dash-core-components==2.0.0 in e:\\applications\\py\\lib\\site-packages (from dash->dtale) (2.0.0)\n",
      "Requirement already satisfied: dash-table==5.0.0 in e:\\applications\\py\\lib\\site-packages (from dash->dtale) (5.0.0)\n",
      "Requirement already satisfied: Jinja2>=3.0 in e:\\applications\\py\\lib\\site-packages (from Flask<2.3->dtale) (3.1.3)\n",
      "Requirement already satisfied: click>=8.0 in e:\\applications\\py\\lib\\site-packages (from Flask<2.3->dtale) (8.1.7)\n",
      "Requirement already satisfied: tenacity>=6.2.0 in e:\\applications\\py\\lib\\site-packages (from plotly->dtale) (8.2.3)\n",
      "Requirement already satisfied: packaging in e:\\applications\\py\\lib\\site-packages (from plotly->dtale) (23.2)\n",
      "Requirement already satisfied: MarkupSafe>=2.1.1 in e:\\applications\\py\\lib\\site-packages (from werkzeug->dtale) (2.1.5)\n",
      "Requirement already satisfied: soupsieve>1.2 in e:\\applications\\py\\lib\\site-packages (from beautifulsoup4->dtale) (2.5)\n",
      "Requirement already satisfied: brotli in e:\\applications\\py\\lib\\site-packages (from Flask-Compress->dtale) (1.1.0)\n",
      "Requirement already satisfied: kiwisolver>=1.0.1 in e:\\applications\\py\\lib\\site-packages (from matplotlib->dtale) (1.4.5)\n",
      "Requirement already satisfied: fonttools>=4.22.0 in e:\\applications\\py\\lib\\site-packages (from matplotlib->dtale) (4.49.0)\n",
      "Requirement already satisfied: pyparsing>=2.3.1 in e:\\applications\\py\\lib\\site-packages (from matplotlib->dtale) (3.1.2)\n",
      "Requirement already satisfied: pillow>=6.2.0 in e:\\applications\\py\\lib\\site-packages (from matplotlib->dtale) (10.2.0)\n",
      "Requirement already satisfied: python-dateutil>=2.7 in e:\\applications\\py\\lib\\site-packages (from matplotlib->dtale) (2.9.0.post0)\n",
      "Requirement already satisfied: tzdata>=2022.7 in e:\\applications\\py\\lib\\site-packages (from pandas->dtale) (2024.1)\n",
      "Requirement already satisfied: pytz>=2020.1 in e:\\applications\\py\\lib\\site-packages (from pandas->dtale) (2024.1)\n",
      "Requirement already satisfied: idna<4,>=2.5 in e:\\applications\\py\\lib\\site-packages (from requests->dtale) (3.6)\n",
      "Requirement already satisfied: urllib3<3,>=1.21.1 in e:\\applications\\py\\lib\\site-packages (from requests->dtale) (2.2.1)\n",
      "Requirement already satisfied: charset-normalizer<4,>=2 in e:\\applications\\py\\lib\\site-packages (from requests->dtale) (3.3.2)\n",
      "Requirement already satisfied: threadpoolctl>=2.0.0 in e:\\applications\\py\\lib\\site-packages (from scikit-learn->dtale) (3.3.0)\n",
      "Requirement already satisfied: joblib>=1.2.0 in e:\\applications\\py\\lib\\site-packages (from scikit-learn->dtale) (1.3.2)\n",
      "Requirement already satisfied: patsy>=0.5.4 in e:\\applications\\py\\lib\\site-packages (from statsmodels->dtale) (0.5.6)\n",
      "Requirement already satisfied: colorama in e:\\applications\\py\\lib\\site-packages (from click>=8.0->Flask<2.3->dtale) (0.4.6)\n",
      "Requirement already satisfied: zipp>=0.5 in e:\\applications\\py\\lib\\site-packages (from importlib-metadata->dash->dtale) (3.17.0)\n"
     ]
    },
    {
     "name": "stderr",
     "output_type": "stream",
     "text": [
      "\n",
      "[notice] A new release of pip available: 22.3.1 -> 24.0\n",
      "[notice] To update, run: python.exe -m pip install --upgrade pip\n"
     ]
    }
   ],
   "source": [
    "!pip install dtale"
   ]
  },
  {
   "cell_type": "code",
   "execution_count": 10,
   "id": "98f61bf5",
   "metadata": {},
   "outputs": [],
   "source": [
    "import dtale"
   ]
  },
  {
   "cell_type": "code",
   "execution_count": 11,
   "id": "94b2f39c",
   "metadata": {
    "scrolled": true
   },
   "outputs": [
    {
     "data": {
      "text/html": [
       "\n",
       "        <iframe\n",
       "            width=\"100%\"\n",
       "            height=\"475\"\n",
       "            src=\"http://DESKTOP-T0NF656:40000/dtale/iframe/1\"\n",
       "            frameborder=\"0\"\n",
       "            allowfullscreen\n",
       "            \n",
       "        ></iframe>\n",
       "        "
      ],
      "text/plain": [
       "<IPython.lib.display.IFrame at 0x2c766a90670>"
      ]
     },
     "metadata": {},
     "output_type": "display_data"
    },
    {
     "data": {
      "text/plain": []
     },
     "execution_count": 11,
     "metadata": {},
     "output_type": "execute_result"
    },
    {
     "name": "stderr",
     "output_type": "stream",
     "text": [
      "E:\\applications\\Anaconda\\files\\lib\\site-packages\\dtale\\charts\\utils.py:899: FutureWarning:\n",
      "\n",
      "In a future version of pandas, a length 1 tuple will be returned when iterating over a groupby with a grouper equal to a list of length 1. Don't supply a list with a single grouper to avoid this warning.\n",
      "\n",
      "E:\\applications\\Anaconda\\files\\lib\\site-packages\\dtale\\charts\\utils.py:899: FutureWarning:\n",
      "\n",
      "In a future version of pandas, a length 1 tuple will be returned when iterating over a groupby with a grouper equal to a list of length 1. Don't supply a list with a single grouper to avoid this warning.\n",
      "\n",
      "E:\\applications\\Anaconda\\files\\lib\\site-packages\\dtale\\charts\\utils.py:899: FutureWarning:\n",
      "\n",
      "In a future version of pandas, a length 1 tuple will be returned when iterating over a groupby with a grouper equal to a list of length 1. Don't supply a list with a single grouper to avoid this warning.\n",
      "\n",
      "E:\\applications\\Anaconda\\files\\lib\\site-packages\\dtale\\charts\\utils.py:899: FutureWarning:\n",
      "\n",
      "In a future version of pandas, a length 1 tuple will be returned when iterating over a groupby with a grouper equal to a list of length 1. Don't supply a list with a single grouper to avoid this warning.\n",
      "\n",
      "2024-04-17 22:50:55,791 - INFO     - Executing shutdown due to inactivity...\n",
      "2024-04-17 22:51:12,378 - INFO     - Executing shutdown...\n",
      "2024-04-17 22:51:12,382 - INFO     - Not running with the Werkzeug Server, exiting by searching gc for BaseWSGIServer\n"
     ]
    }
   ],
   "source": [
    "dtale.show(train_set)"
   ]
  },
  {
   "cell_type": "code",
   "execution_count": null,
   "id": "68f349bf",
   "metadata": {},
   "outputs": [],
   "source": []
  },
  {
   "cell_type": "code",
   "execution_count": null,
   "id": "a57a7087",
   "metadata": {},
   "outputs": [],
   "source": []
  }
 ],
 "metadata": {
  "kernelspec": {
   "display_name": "Python 3 (ipykernel)",
   "language": "python",
   "name": "python3"
  },
  "language_info": {
   "codemirror_mode": {
    "name": "ipython",
    "version": 3
   },
   "file_extension": ".py",
   "mimetype": "text/x-python",
   "name": "python",
   "nbconvert_exporter": "python",
   "pygments_lexer": "ipython3",
   "version": "3.10.9"
  }
 },
 "nbformat": 4,
 "nbformat_minor": 5
}
